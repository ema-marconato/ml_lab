{
 "cells": [
  {
   "cell_type": "markdown",
   "metadata": {
    "id": "BKR1paZAPOxj"
   },
   "source": [
    "# Machine Learning \n",
    "## Laboratory on Neural Networks with PyTorch\n",
    "\n",
    "PyTorch is a machine learning framework based on the Torch library, used for applications such as computer vision and natural language processing, originally developed by Meta AI and now part of the Linux Foundation umbrella. It is one of many deep learning libraries out there, along with Keras and Tensorflow [1]. It is free and open-source software released under the modified BSD license. Many companies uses PyTorch to build their deep learning stack (e.g., Tesla Autopilot, Hugging's Face). \n",
    "\n",
    "[1] https://en.wikipedia.org/wiki/Comparison_of_deep_learning_software"
   ]
  },
  {
   "cell_type": "markdown",
   "metadata": {
    "id": "RWspF0Z4PKTb"
   },
   "source": [
    "## Google Colab\n",
    "\n",
    "Google Colab is a  cloud service based on Jupyter  that enables to execute notebooks in the cloud, using resources from Google's datacenters.\n",
    "Google even provides limited access to GPU, in order to accelerate tasks such as \n",
    "deep learning."
   ]
  },
  {
   "cell_type": "code",
   "execution_count": 1,
   "metadata": {
    "id": "dURWlvXkLmA9"
   },
   "outputs": [],
   "source": [
    "# Import the PyTorch libraries: torch torchvision and torchvision.transforms\n",
    "import torch\n",
    "import torchvision\n",
    "import torchvision.transforms as transforms"
   ]
  },
  {
   "cell_type": "code",
   "execution_count": 2,
   "metadata": {
    "id": "s-n1vE3-S_sx"
   },
   "outputs": [],
   "source": [
    "# Instantiate the device we will use to train the model\n",
    "device = torch.device(\"cuda:0\" if torch.cuda.is_available() else \"cpu\")"
   ]
  },
  {
   "cell_type": "code",
   "execution_count": 3,
   "metadata": {
    "colab": {
     "base_uri": "https://localhost:8080/"
    },
    "id": "VqjFncz7U6vD",
    "outputId": "6bc1ad06-27f0-4733-a84e-d135d53759ca"
   },
   "outputs": [
    {
     "data": {
      "text/plain": [
       "<torch._C.Generator at 0x7f5019ea5f10>"
      ]
     },
     "execution_count": 3,
     "metadata": {},
     "output_type": "execute_result"
    }
   ],
   "source": [
    "# Set the torch random seeds to ensure reproducibility\n",
    "torch.manual_seed(0)"
   ]
  },
  {
   "cell_type": "markdown",
   "metadata": {
    "id": "8KcKSXOmQJ4H"
   },
   "source": [
    "## CIFAR-10\n",
    "\n",
    "The CIFAR-10 [1] dataset consists of 60000 32x32 colour images in 10 classes, with 6000 images per class. There are 50000 training images and 10000 test images.\n",
    "It has the classes: ‘airplane’, ‘automobile’, ‘bird’, ‘cat’, ‘deer’, ‘dog’, ‘frog’, ‘horse’, ‘ship’, ‘truck’. The images in CIFAR-10 are of size 3x32x32, i.e. 3-channel color images of 32x32 pixels in size.\n",
    "\n",
    "In our case, we will use a greyscale version of these images to improve performances.\n",
    "\n",
    "<img src=\"https://pytorch.org/tutorials/_images/cifar10.png\"/>\n",
    "\n",
    "[1] https://www.cs.toronto.edu/~kriz/cifar.html"
   ]
  },
  {
   "cell_type": "code",
   "execution_count": 4,
   "metadata": {
    "id": "cgA3cSEpVcb7"
   },
   "outputs": [],
   "source": [
    "# This class simply load the CIFAR10 torchvision dataset and it enables us to\n",
    "# specify the classes we want to keep\n",
    "import numpy as np\n",
    "\n",
    "class CIFAR10Small(torchvision.datasets.CIFAR10):\n",
    "    def __init__(self, *args, classes=3, **kwargs):\n",
    "        super(CIFAR10Small, self).__init__(*args, **kwargs)\n",
    "\n",
    "        requested_list = list(range(0,classes))\n",
    "\n",
    "        labels = np.array(self.targets)\n",
    "        keep = np.array(requested_list).reshape(1, -1)\n",
    "        mask = (labels.reshape(-1, 1) == keep).any(axis=1)\n",
    "\n",
    "        self.data = self.data[mask]\n",
    "        self.targets = labels[mask].tolist()"
   ]
  },
  {
   "cell_type": "code",
   "execution_count": 5,
   "metadata": {
    "colab": {
     "base_uri": "https://localhost:8080/",
     "height": 106,
     "referenced_widgets": [
      "e96f9302dafe4bf3960c959237232f45",
      "eda7ecc32805411ca6203f0dc344e23a",
      "82d0ba33e3e44090b3ac4d7148c79013",
      "b4ac7fd8433c45fc89c61c008f099fcc",
      "0225672cb6914c0aad08ad7f3d08d260",
      "f6ed2d3ba70044bfa42e0323445f1f22",
      "706b83fcb20b42839265c496d245e980",
      "6164fbac8ec048c3b8bb8766cb719ae4",
      "44b36882da0f40f6a43feb04b072b97a",
      "a86bd117fe7f4fc29aed673220a96b81",
      "e8584556d3bf4a29a38a1b2873db8525"
     ]
    },
    "id": "U7mrnO9jMBta",
    "outputId": "09d5cc47-d505-480b-ceb1-b846c825a9be"
   },
   "outputs": [
    {
     "name": "stdout",
     "output_type": "stream",
     "text": [
      "Downloading https://www.cs.toronto.edu/~kriz/cifar-10-python.tar.gz to ./data/cifar-10-python.tar.gz\n"
     ]
    },
    {
     "data": {
      "application/vnd.jupyter.widget-view+json": {
       "model_id": "e96f9302dafe4bf3960c959237232f45",
       "version_major": 2,
       "version_minor": 0
      },
      "text/plain": [
       "  0%|          | 0/170498071 [00:00<?, ?it/s]"
      ]
     },
     "metadata": {},
     "output_type": "display_data"
    },
    {
     "name": "stdout",
     "output_type": "stream",
     "text": [
      "Extracting ./data/cifar-10-python.tar.gz to ./data\n",
      "Files already downloaded and verified\n"
     ]
    }
   ],
   "source": [
    "# Load the torchvision dataset and create two dataloaders, one for training\n",
    "# and one for testing.\n",
    "\n",
    "batch_size = 128\n",
    "\n",
    "transform = transforms.Compose([transforms.ToTensor(), transforms.Grayscale()])\n",
    "\n",
    "trainset = CIFAR10Small(root='./data', train=True,\n",
    "                      download=True, transform=transform)\n",
    "testset = CIFAR10Small(root='./data', train=False,\n",
    "                    download=True, transform=transform)\n",
    "\n",
    "trainloader = torch.utils.data.DataLoader(trainset, batch_size=batch_size,\n",
    "                                          shuffle=True, num_workers=2)\n",
    "testloader = torch.utils.data.DataLoader(testset, batch_size=batch_size,\n",
    "                                         shuffle=False, num_workers=2)"
   ]
  },
  {
   "cell_type": "code",
   "execution_count": 6,
   "metadata": {
    "colab": {
     "base_uri": "https://localhost:8080/",
     "height": 139
    },
    "id": "r-e79TqUMZJc",
    "outputId": "d82f0ccf-9449-43c1-a9f5-a89ef8a5d27d"
   },
   "outputs": [
    {
     "data": {
      "image/png": "[encoded data removed]",
      "text/plain": [
       "<Figure size 1080x1440 with 1 Axes>"
      ]
     },
     "metadata": {
      "needs_background": "light"
     },
     "output_type": "display_data"
    }
   ],
   "source": [
    "# Get some random images from the training set and plot them \n",
    "import matplotlib.pyplot as plt\n",
    "import numpy as np\n",
    "\n",
    "# Get some random training images\n",
    "dataiter = iter(trainloader)\n",
    "images, labels = next(dataiter)\n",
    "\n",
    "# Show images\n",
    "plt.figure(figsize=(15, 20))\n",
    "grid = torchvision.utils.make_grid(images[0:10], nrow=20)\n",
    "plt.imshow(np.transpose(grid, (1, 2, 0)))\n",
    "plt.show()"
   ]
  },
  {
   "cell_type": "markdown",
   "metadata": {
    "id": "kpEUJ2tc5ZK3"
   },
   "source": [
    "# Multi-layered Perceptron (MLP)\n",
    "\n",
    "<img src=\"https://www.researchgate.net/publication/291339457/figure/fig1/AS:334187497312256@1456687916125/Typical-structure-of-a-feed-forward-multilayer-neural-network.png\" width=500>\n",
    "\n",
    "Image taken from [here](https://www.researchgate.net/publication/291339457_Artificial_Neural_Networks_as_Decision_Support_Tools_in_Cytopathology_Past_Present_and_Future/figures?lo=1)"
   ]
  },
  {
   "cell_type": "code",
   "execution_count": 7,
   "metadata": {
    "id": "vqenZCQY5jKA"
   },
   "outputs": [],
   "source": [
    "# Implement an MLP module which we will use classify the CIFAR10 dataset\n",
    "import torch.nn as nn\n",
    "import torch.nn.functional as F\n",
    "\n",
    "class MLP(nn.Module):\n",
    "\n",
    "  def __init__(self):\n",
    "    super().__init__()\n",
    "    self.flatten = nn.Flatten()\n",
    "    self.fc1 = nn.Linear(32*32, 32*16)\n",
    "    self.fc2 = nn.Linear(32*16, 32*8)\n",
    "    self.fc3 = nn.Linear(32*8, 3)\n",
    "\n",
    "  def forward(self, x):\n",
    "    x = self.flatten(x)\n",
    "    x = F.relu(self.fc1(x))\n",
    "    x = F.relu(self.fc2(x))\n",
    "    x = self.fc3(x)\n",
    "    return x"
   ]
  },
  {
   "cell_type": "code",
   "execution_count": 8,
   "metadata": {
    "colab": {
     "base_uri": "https://localhost:8080/"
    },
    "id": "cvRVpq1Y8fIZ",
    "outputId": "cc9c8fda-874b-47c4-bd3d-ed38e75b95f7"
   },
   "outputs": [
    {
     "data": {
      "text/plain": [
       "MLP(\n",
       "  (flatten): Flatten(start_dim=1, end_dim=-1)\n",
       "  (fc1): Linear(in_features=1024, out_features=512, bias=True)\n",
       "  (fc2): Linear(in_features=512, out_features=256, bias=True)\n",
       "  (fc3): Linear(in_features=256, out_features=3, bias=True)\n",
       ")"
      ]
     },
     "execution_count": 8,
     "metadata": {},
     "output_type": "execute_result"
    }
   ],
   "source": [
    "# Istantiate an MLP object and load it into the GPU \n",
    "mlp = MLP()\n",
    "mlp.to(device)"
   ]
  },
  {
   "cell_type": "code",
   "execution_count": 9,
   "metadata": {
    "colab": {
     "base_uri": "https://localhost:8080/"
    },
    "id": "81gtQyLQSCpK",
    "outputId": "e580e778-f8e6-4793-d952-fd606e1ff436"
   },
   "outputs": [
    {
     "name": "stdout",
     "output_type": "stream",
     "text": [
      "----------------------------------------------------------------\n",
      "        Layer (type)               Output Shape         Param #\n",
      "================================================================\n",
      "           Flatten-1                 [10, 1024]               0\n",
      "            Linear-2                  [10, 512]         524,800\n",
      "            Linear-3                  [10, 256]         131,328\n",
      "            Linear-4                    [10, 3]             771\n",
      "================================================================\n",
      "Total params: 656,899\n",
      "Trainable params: 656,899\n",
      "Non-trainable params: 0\n",
      "----------------------------------------------------------------\n",
      "Input size (MB): 0.04\n",
      "Forward/backward pass size (MB): 0.14\n",
      "Params size (MB): 2.51\n",
      "Estimated Total Size (MB): 2.68\n",
      "----------------------------------------------------------------\n"
     ]
    }
   ],
   "source": [
    "# Print how many parameters has my model\n",
    "from torchsummary import summary\n",
    "summary(mlp, input_size=(1, 32*32), batch_size=10)"
   ]
  },
  {
   "cell_type": "markdown",
   "metadata": {
    "id": "fXSblyW2AEu0"
   },
   "source": [
    "# Training a Deep Learnig model\n",
    "\n",
    "## Loss function\n",
    "\n",
    "After we define the model, we want to train it using the CIFAR10 data, using gradient descent. To do so, we first need to define a **loss function**. For this task we are going to use the **cross-entropy loss**. This loss function is suitable for multiclass classification problems. Given the ground truth labels $\\mathbf{y} = \\{y_i\\}_{i=1}^{C}$ and the predicted probabilities $\\hat{\\mathbf{y}} = \\{ \\hat{y}_i \\}_{i=1}^{C}$, our loss function $\\mathcal{L}(\\hat{\\mathbf{y}}, \\mathbf{y})$ becomes:\n",
    "\n",
    "\\begin{equation}\n",
    "    \\mathcal{L}(\\hat{\\mathbf{y}}, \\mathbf{y}) = - \\sum_i y_i \\log(\\hat{y}_i)\n",
    "\\end{equation}\n",
    "\n",
    "PyTorch provides us with the `torch.nn.CrossEntropyLoss` class which implements the loss. It works also with unnormalized probabilities.\n",
    "\n",
    "## Optimizer\n",
    "\n",
    "We then need an optimizer for the gradient descent procedure. In our case, we will use **Adam (Adaptive Moment Estimation) (Kingma and Ba, 2014)**, an improved version of *RMSProp* which uses the gradients and the second moment of the gradients. Different optimizers have different properties and some of them are better than others on average (although this might not be true for all the datasets). See the image below for an example.\n",
    "\n",
    "<img src=\"http://2.bp.blogspot.com/-q6l20Vs4P_w/VPmIC7sEhnI/AAAAAAAACC4/g3UOUX2r_yA/s400/s25RsOr%2B-%2BImgur.gif\" />\n",
    "\n",
    "[1] Kingma, Diederik; Ba, Jimmy (2014). \"Adam: A Method for Stochastic Optimization\". arXiv:1412.6980 [cs.LG].\n",
    "\n",
    "Image taken from http://www.denizyuret.com/2015/03/alec-radfords-animations-for.html"
   ]
  },
  {
   "cell_type": "markdown",
   "metadata": {},
   "source": [
    "### Intuition behind ADAM (Stochastic Optimization)\n",
    "\n",
    "Let's look at how SGD and Adam implement the evaluation of the gradient.\n",
    "\n",
    "**SGD** pseudo-code:\n",
    "\n",
    "<img src=\"https://miro.medium.com/v2/resize:fit:1200/1*VJtZA2FtLi_CKPBtqIoeQg.png\" width=500 />\n",
    "\n",
    "\n",
    "\n",
    "**ADAM** pseudo-code:\n",
    "\n",
    "<img src=\"https://www.baeldung.com/wp-content/ql-cache/quicklatex.com-f2b6aeb55a3bff6bb1905679e83e5f3f_l3.svg\" width=500 />"
   ]
  },
  {
   "cell_type": "code",
   "execution_count": 10,
   "metadata": {
    "id": "HTXVB58F89_Y"
   },
   "outputs": [],
   "source": [
    "# Instantiate an optimizer (Adam) and a suitable loss function (CrossEntropyLoss)\n",
    "optimizer = torch.optim.Adam(mlp.parameters(), lr=0.001)\n",
    "criterion = nn.CrossEntropyLoss()"
   ]
  },
  {
   "cell_type": "markdown",
   "metadata": {
    "id": "ObjhbpLKGPHA"
   },
   "source": [
    "Our training framework is an iterative procedure that starts by sampling a batch of examples from the training set, coupled with their labels. \n",
    "The data is fed to the model, whose predictions are matched with the\n",
    "true labels via a loss function. Then the gradient of the loss with\n",
    "respect to the parameters of the model is computed, and used to \n",
    "update the parameters (following the directions in which it decreases).\n",
    "\n",
    "We usually fed multiple times the entire dataset during training. Each complete pass of the dataset is called *epoch*."
   ]
  },
  {
   "cell_type": "code",
   "execution_count": 11,
   "metadata": {
    "id": "pneAMYlb8ppc"
   },
   "outputs": [],
   "source": [
    "# Implement a training loop function over the dataset.\n",
    "# The steps are forward + backward + optimize\n",
    "\n",
    "def train_model(model, dataloader, criterion, optimizer, epochs=10):\n",
    "\n",
    "  for epoch in range(epochs):\n",
    "\n",
    "    running_loss = 0.0\n",
    "\n",
    "    for i, data in enumerate(trainloader, 0):\n",
    "\n",
    "      inputs, labels = data\n",
    "      inputs = inputs.to(device)\n",
    "      labels = labels.to(device)\n",
    "\n",
    "      optimizer.zero_grad()\n",
    "\n",
    "      outputs = model(inputs)\n",
    "      loss = criterion(outputs, labels)\n",
    "      loss.backward()\n",
    "      optimizer.step()\n",
    "\n",
    "      running_loss += loss.item()\n",
    "\n",
    "      if (i+1)%100 == 0:\n",
    "        print(f\"Epoch {epoch+1} - Iteration {i+1}: Loss {running_loss/100}\")\n",
    "        running_loss = 0.0"
   ]
  },
  {
   "cell_type": "code",
   "execution_count": 12,
   "metadata": {
    "colab": {
     "base_uri": "https://localhost:8080/"
    },
    "id": "nFXQGA9FKiih",
    "outputId": "b7d1e266-b4f0-43e9-cc73-7e15408e87bb"
   },
   "outputs": [
    {
     "name": "stdout",
     "output_type": "stream",
     "text": [
      "Epoch 1 - Iteration 100: Loss 0.9516300421953201\n",
      "Epoch 2 - Iteration 100: Loss 0.8495200461149216\n",
      "Epoch 3 - Iteration 100: Loss 0.8023826169967652\n",
      "Epoch 4 - Iteration 100: Loss 0.770165274143219\n",
      "Epoch 5 - Iteration 100: Loss 0.7441767591238022\n",
      "Epoch 6 - Iteration 100: Loss 0.7287499088048935\n",
      "Epoch 7 - Iteration 100: Loss 0.6881779885292053\n",
      "Epoch 8 - Iteration 100: Loss 0.6714271837472916\n",
      "Epoch 9 - Iteration 100: Loss 0.6612476789951325\n",
      "Epoch 10 - Iteration 100: Loss 0.644560312628746\n"
     ]
    }
   ],
   "source": [
    "# Train the model using the function defined above\n",
    "train_model(mlp, trainloader, criterion, optimizer, 10)"
   ]
  },
  {
   "cell_type": "code",
   "execution_count": 13,
   "metadata": {
    "id": "VUNGKIBGUQRa"
   },
   "outputs": [],
   "source": [
    "from sklearn.metrics import accuracy_score\n",
    "from sklearn.metrics import top_k_accuracy_score\n",
    "from sklearn.metrics import classification_report\n",
    "\n",
    "# Write a function to evaluate the model\n",
    "def evaluate_model(net, dataloader):\n",
    "\n",
    "  # Evaluate the trained model on the data of the test set\n",
    "  correct = 0\n",
    "  total = 0\n",
    "\n",
    "  predictions = []\n",
    "  ground_truth = []\n",
    "  predictions_probabilities = []\n",
    "\n",
    "  # We do not need to compute the gradients since we are not training the model\n",
    "  with torch.no_grad():\n",
    "      for data in testloader:\n",
    "          \n",
    "          images, labels = data\n",
    "          images = images.to(device)\n",
    "          labels = labels.to(device)\n",
    "\n",
    "          outputs = net(images)\n",
    "\n",
    "          # We get the class with the higher probability\n",
    "          _, predicted = torch.max(outputs.data, 1)\n",
    "\n",
    "          # Save informations we will need\n",
    "          predictions_probabilities += outputs.tolist()\n",
    "          ground_truth += labels.tolist()\n",
    "          predictions += predicted.tolist()\n",
    "\n",
    "  print(f'Accuracy: {accuracy_score(ground_truth, predictions):.2f} %')\n",
    "  print(f'Top-k Accuracy (k=2): {top_k_accuracy_score(ground_truth, predictions_probabilities):.2f} %')\n",
    "  print()\n",
    "  print(classification_report(ground_truth, predictions))\n",
    "\n",
    "  return predictions, ground_truth, predictions_probabilities"
   ]
  },
  {
   "cell_type": "code",
   "execution_count": 14,
   "metadata": {
    "colab": {
     "base_uri": "https://localhost:8080/"
    },
    "id": "S1BJEmIcLGZS",
    "outputId": "b66dd331-1108-4107-e1c7-c775034edc86"
   },
   "outputs": [
    {
     "name": "stdout",
     "output_type": "stream",
     "text": [
      "Accuracy: 0.69 %\n",
      "Top-k Accuracy (k=2): 0.93 %\n",
      "\n",
      "              precision    recall  f1-score   support\n",
      "\n",
      "           0       0.75      0.46      0.57      1000\n",
      "           1       0.80      0.78      0.79      1000\n",
      "           2       0.59      0.84      0.70      1000\n",
      "\n",
      "    accuracy                           0.69      3000\n",
      "   macro avg       0.72      0.69      0.69      3000\n",
      "weighted avg       0.72      0.69      0.69      3000\n",
      "\n"
     ]
    }
   ],
   "source": [
    "predictions, ground_truth, predictions_probabilities = evaluate_model(mlp, testloader)"
   ]
  },
  {
   "cell_type": "markdown",
   "metadata": {
    "id": "SiCdFWf0ngYF"
   },
   "source": [
    "# Convolutional Neural Network (CNN)\n",
    "\n",
    "\"In deep learning, a convolutional neural network (CNN, or ConvNet) is a class of artificial neural network (ANN), most commonly applied to analyze visual imagery\" (taken from, Wikipedia).They employ a series of convolution kernels which transform the input, and they learn to find patterns of increasing complexity in an hierarchical manner.\n",
    "\n",
    "There are many of these architectures (e.g, AlexNet, ResNet, VGG), but we are going to see one of the first ones which is considered as the step-stone for the computer vision field, **LeNet-5 (Lecun et al., 1998)**. \n",
    "\n",
    "The original formulation is composed by two convolution layers which use subsampling to reduce the size of the input. The convolution part can be seen as a **feature extractor**. Then, it uses a standard MLP to perform classification.\n",
    "\n",
    "\n",
    "\n",
    "[1] Lecun, Y.; Bottou, L.; Bengio, Y.; Haffner, P. (1998). \"Gradient-based learning applied to document recognition\". Proceedings of the IEEE. 86 (11): 2278–2324. doi:10.1109/5.726791."
   ]
  },
  {
   "cell_type": "markdown",
   "metadata": {
    "id": "LAwnI7HElTjF"
   },
   "source": [
    "## Convolutional Layer\n",
    "\n",
    "See [torch.nn.Conv2d](https://pytorch.org/docs/stable/generated/torch.nn.Conv2d.html) for the PyTorch implementation.\n",
    "\n",
    "A convolutional layer takes as input a matrix and divides it into smaller \"patches\". The size of the patch is called **kernel size**. The \"speed\" we move the patch is called **stride**. It outputs a number of features (channels) for each patch, exploiting locality and parameter sharing between \"close\" pixels. The resulting tensor will be similar to the one in the following picture.\n",
    "\n",
    "<img src=\"https://upload.wikimedia.org/wikipedia/commons/6/68/Conv_layer.png\" width=\"400px\"/>\n",
    "\n",
    "The operation of applying a convolution is shown below. In the following example, we have a **kernel size = 3 x 3** and **stride = 1**.\n",
    "\n",
    "<img src=\"https://raw.githubusercontent.com/vdumoulin/conv_arithmetic/master/gif/no_padding_no_strides.gif\" width=\"250px\" />\n",
    "\n",
    "Applying a convolution reduces the size of the input image. This effect is not always desirable, since we might lose important information. Therefore, we add some \"padding\" to the image (usually zeroes), such to maintain the original dimensions.\n",
    "\n",
    "<img src=\"https://github.com/vdumoulin/conv_arithmetic/raw/master/gif/same_padding_no_strides.gif\" width=\"400px\" />\n",
    "\n",
    "## Pooling layer\n",
    "\n",
    "See [torch.nn.MaxPool2d](https://pytorch.org/docs/stable/generated/torch.nn.MaxPool2d.html) for the PyTorch implementation.\n",
    "\n",
    "The Pooling layer is a filter that is used to reduce the number of the input dimensions between two convolutional layers. It is useful for dimensionality reduction and it avoids overfitting. It can be seen as a form of regularization.\n",
    "\n",
    "A common example is the *Max pooling Layer*, in which we partition the input image into a set of rectangles and, for each such sub-region, we output the maximum.\n",
    "\n",
    "<img src=\"http://www.wildml.com/wp-content/uploads/2015/11/Screen-Shot-2015-11-05-at-2.18.38-PM.png\" width=\"400px\" />"
   ]
  },
  {
   "cell_type": "markdown",
   "metadata": {
    "id": "ZvdYBHEGr0CI"
   },
   "source": [
    "## LeNet-5\n",
    "\n",
    "<img src=\"https://raw.githubusercontent.com/blurred-machine/Data-Science/master/Deep%20Learning%20SOTA/img/lenet-5.png\"/>\n",
    "\n"
   ]
  },
  {
   "cell_type": "code",
   "execution_count": 15,
   "metadata": {
    "id": "o3kesyr1OrHM"
   },
   "outputs": [],
   "source": [
    "# Implement LeNet-5 based on the picture above. Bear in mind that here we have\n",
    "# onluy 3 class to predict, so the last layer must be scalled accordingly.\n",
    "import torch.nn as nn\n",
    "import torch.nn.functional as F\n",
    "\n",
    "\n",
    "class LeNet5(nn.Module):\n",
    "    def __init__(self):\n",
    "        super().__init__()\n",
    "        self.flatten = nn.Flatten()\n",
    "        self.conv1 = nn.Conv2d(1, 6, 5)\n",
    "        self.pool = nn.MaxPool2d(2, 2)\n",
    "        self.conv2 = nn.Conv2d(6, 12, 5)\n",
    "        self.fc1 = nn.Linear(12 * 5 * 5, 120)\n",
    "        self.fc2 = nn.Linear(120, 60)\n",
    "        self.fc3 = nn.Linear(60, 3)\n",
    "\n",
    "    def forward(self, x):\n",
    "      x = self.pool(F.relu(self.conv1(x)))\n",
    "      x = self.pool(F.relu(self.conv2(x)))\n",
    "      x = self.flatten(x) # flatten all dimensions except batch\n",
    "      x = F.relu(self.fc1(x))\n",
    "      x = F.relu(self.fc2(x))\n",
    "      x = self.fc3(x)\n",
    "      return x"
   ]
  },
  {
   "cell_type": "code",
   "execution_count": 16,
   "metadata": {
    "colab": {
     "base_uri": "https://localhost:8080/"
    },
    "id": "sL0j13D9scu_",
    "outputId": "d3737902-9017-4d31-d878-0d0e16a1835e"
   },
   "outputs": [
    {
     "data": {
      "text/plain": [
       "LeNet5(\n",
       "  (flatten): Flatten(start_dim=1, end_dim=-1)\n",
       "  (conv1): Conv2d(1, 6, kernel_size=(5, 5), stride=(1, 1))\n",
       "  (pool): MaxPool2d(kernel_size=2, stride=2, padding=0, dilation=1, ceil_mode=False)\n",
       "  (conv2): Conv2d(6, 12, kernel_size=(5, 5), stride=(1, 1))\n",
       "  (fc1): Linear(in_features=300, out_features=120, bias=True)\n",
       "  (fc2): Linear(in_features=120, out_features=60, bias=True)\n",
       "  (fc3): Linear(in_features=60, out_features=3, bias=True)\n",
       ")"
      ]
     },
     "execution_count": 16,
     "metadata": {},
     "output_type": "execute_result"
    }
   ],
   "source": [
    "# Instantiate the LeNet object and move it to the GPU\n",
    "lenet = LeNet5()\n",
    "lenet.to(device)"
   ]
  },
  {
   "cell_type": "code",
   "execution_count": 17,
   "metadata": {
    "colab": {
     "base_uri": "https://localhost:8080/"
    },
    "id": "zfbO4223SVOG",
    "outputId": "62e1d183-b220-4741-ffdd-ace5f1551997"
   },
   "outputs": [
    {
     "name": "stdout",
     "output_type": "stream",
     "text": [
      "----------------------------------------------------------------\n",
      "        Layer (type)               Output Shape         Param #\n",
      "================================================================\n",
      "            Conv2d-1            [10, 6, 28, 28]             156\n",
      "         MaxPool2d-2            [10, 6, 14, 14]               0\n",
      "            Conv2d-3           [10, 12, 10, 10]           1,812\n",
      "         MaxPool2d-4             [10, 12, 5, 5]               0\n",
      "           Flatten-5                  [10, 300]               0\n",
      "            Linear-6                  [10, 120]          36,120\n",
      "            Linear-7                   [10, 60]           7,260\n",
      "            Linear-8                    [10, 3]             183\n",
      "================================================================\n",
      "Total params: 45,531\n",
      "Trainable params: 45,531\n",
      "Non-trainable params: 0\n",
      "----------------------------------------------------------------\n",
      "Input size (MB): 0.04\n",
      "Forward/backward pass size (MB): 0.60\n",
      "Params size (MB): 0.17\n",
      "Estimated Total Size (MB): 0.81\n",
      "----------------------------------------------------------------\n"
     ]
    }
   ],
   "source": [
    "# Print how many parameters has the LeNet5 model and compare it with the MLP\n",
    "summary(lenet, input_size=(1, 32, 32), batch_size=10)"
   ]
  },
  {
   "cell_type": "code",
   "execution_count": 18,
   "metadata": {
    "id": "fAGya2ywO-CM"
   },
   "outputs": [],
   "source": [
    "# Instantiate the loss criterion and the optimizer\n",
    "import torch.optim as optim\n",
    "\n",
    "criterion = nn.CrossEntropyLoss()\n",
    "optimizer = torch.optim.Adam(lenet.parameters(), lr=0.001)"
   ]
  },
  {
   "cell_type": "code",
   "execution_count": 20,
   "metadata": {
    "colab": {
     "base_uri": "https://localhost:8080/"
    },
    "id": "6FQdPFM9LXJl",
    "outputId": "2a2a4a0e-906a-412a-d3de-93dc13ec9940"
   },
   "outputs": [
    {
     "name": "stdout",
     "output_type": "stream",
     "text": [
      "Epoch 1 - Iteration 100: Loss 0.6199147483706474\n",
      "Epoch 2 - Iteration 100: Loss 0.572691272199154\n",
      "Epoch 3 - Iteration 100: Loss 0.5512168422341347\n",
      "Epoch 4 - Iteration 100: Loss 0.5257362231612206\n",
      "Epoch 5 - Iteration 100: Loss 0.5000618922710419\n",
      "Epoch 6 - Iteration 100: Loss 0.48992719382047656\n",
      "Epoch 7 - Iteration 100: Loss 0.4614032629132271\n",
      "Epoch 8 - Iteration 100: Loss 0.46538526952266696\n",
      "Epoch 9 - Iteration 100: Loss 0.451975162923336\n",
      "Epoch 10 - Iteration 100: Loss 0.43639777809381486\n"
     ]
    }
   ],
   "source": [
    "# Train the LeNet5 with 10 epochs\n",
    "train_model(lenet, trainloader, criterion, optimizer, 10)"
   ]
  },
  {
   "cell_type": "code",
   "execution_count": 21,
   "metadata": {
    "colab": {
     "base_uri": "https://localhost:8080/"
    },
    "id": "-zmu3vAOLgra",
    "outputId": "0a32f83f-c707-4dbe-d039-3775e8de5c1f"
   },
   "outputs": [
    {
     "name": "stdout",
     "output_type": "stream",
     "text": [
      "Accuracy: 0.80 %\n",
      "Top-k Accuracy (k=2): 0.97 %\n",
      "\n",
      "              precision    recall  f1-score   support\n",
      "\n",
      "           0       0.72      0.83      0.77      1000\n",
      "           1       0.88      0.84      0.86      1000\n",
      "           2       0.81      0.73      0.77      1000\n",
      "\n",
      "    accuracy                           0.80      3000\n",
      "   macro avg       0.80      0.80      0.80      3000\n",
      "weighted avg       0.80      0.80      0.80      3000\n",
      "\n"
     ]
    }
   ],
   "source": [
    "# Evaluate the trained LeNet5 model on the test set\n",
    "predictions, ground_truth, predictions_probabilities = evaluate_model(lenet, testloader)"
   ]
  },
  {
   "cell_type": "markdown",
   "metadata": {
    "id": "13q8LT7cUN6R"
   },
   "source": [
    "## Extras: Avoid overfitting with Neural Networks\n",
    "\n",
    "\n",
    "### Dropout\n",
    "\n",
    "Dropout [1] is a regularization technique for neural networks. We set a probability of dropping random nodes from the networks at each gradient descent step. This way, the network is going to learn a more robust model, not relying too much on a single node for a prediction. In some sense, using dropout we are \"sampling\" a lot of different networks and learning them, and finally we are left with the \"average\" network, which is less susceptible to outliers.\n",
    "\n",
    "<img src=\"https://pgaleone.eu/images/dropout/dropout.jpeg\" width=\"400px\" />\n",
    "\n",
    "### Batch Normalization\n",
    "\n",
    "It is a regularization technique [2] which we can use to make neural networks training to be faster and more stable. It avoids the problem of **internal covariate shift**, since different weights induce different input distributions in later layers. Moreover, the network becomes more robust to different initialization schemes and learning rates. \n",
    "\n",
    "\n",
    "[1] Hinton et al. (2012). \"Improving neural networks by preventing co-adaptation of feature detectors\". arXiv:1207.0580\n",
    "[2] Ioffe and Szegedy (2015). \"Batch Normalization: Accelerating Deep Network Training by Reducing Internal Covariate Shift\". arXiv:1502.03167.\n",
    "\n",
    "\n",
    "\n"
   ]
  },
  {
   "cell_type": "code",
   "execution_count": 22,
   "metadata": {
    "id": "6Y4H1U4OVU2d"
   },
   "outputs": [],
   "source": [
    "# Extend the LeNet model to perform dropout and bacth normalization\n",
    "class LeNet5Dropout(nn.Module):\n",
    "    def __init__(self):\n",
    "        super().__init__()\n",
    "        self.flatten = nn.Flatten()\n",
    "        self.conv1 = nn.Conv2d(1, 6, 5)\n",
    "        self.bn1 = nn.BatchNorm2d(6)\n",
    "        self.bn2 = nn.BatchNorm2d(12)\n",
    "        self.pool = nn.MaxPool2d(2, 2)\n",
    "        self.conv2 = nn.Conv2d(6, 12, 5)\n",
    "        self.fc1 = nn.Linear(12 * 5 * 5, 120)\n",
    "        self.fc2 = nn.Linear(120, 60)\n",
    "        self.fc3 = nn.Linear(60, 3)\n",
    "\n",
    "        self.dropout = nn.Dropout(p=0.5)\n",
    "\n",
    "    def forward(self, x):\n",
    "      x = self.pool(F.relu(self.bn1(self.conv1(x))))\n",
    "      x = self.pool(F.relu(self.bn2(self.conv2(x))))\n",
    "      x = self.flatten(x) # flatten all dimensions except batch\n",
    "      x = F.relu(self.fc1(x))\n",
    "      x = self.dropout(x)\n",
    "      x = F.relu(self.fc2(x))\n",
    "      x = self.dropout(x)\n",
    "      x = self.fc3(x)\n",
    "      return x"
   ]
  },
  {
   "cell_type": "code",
   "execution_count": 23,
   "metadata": {
    "colab": {
     "base_uri": "https://localhost:8080/"
    },
    "id": "outBrtZMVeFz",
    "outputId": "b1228896-22d9-4124-d5ac-f490b03273f5"
   },
   "outputs": [
    {
     "name": "stdout",
     "output_type": "stream",
     "text": [
      "Epoch 1 - Iteration 100: Loss 0.7896891009807586\n",
      "Epoch 2 - Iteration 100: Loss 0.5851332890987396\n",
      "Epoch 3 - Iteration 100: Loss 0.5262641188502312\n",
      "Epoch 4 - Iteration 100: Loss 0.48459667384624483\n",
      "Epoch 5 - Iteration 100: Loss 0.45394596219062805\n",
      "Epoch 6 - Iteration 100: Loss 0.430021390914917\n",
      "Epoch 7 - Iteration 100: Loss 0.41975923091173173\n",
      "Epoch 8 - Iteration 100: Loss 0.3971377244591713\n",
      "Epoch 9 - Iteration 100: Loss 0.3864807578921318\n",
      "Epoch 10 - Iteration 100: Loss 0.36859546303749086\n"
     ]
    }
   ],
   "source": [
    "lenet_dropout = LeNet5Dropout()\n",
    "lenet_dropout.to(device)\n",
    "\n",
    "optimizer = torch.optim.Adam(lenet_dropout.parameters(), lr=0.001)\n",
    "train_model(lenet_dropout, trainloader, criterion, optimizer, 10)"
   ]
  },
  {
   "cell_type": "code",
   "execution_count": 24,
   "metadata": {
    "colab": {
     "base_uri": "https://localhost:8080/"
    },
    "id": "Bgr_P96KV2w6",
    "outputId": "94679dca-7b68-412f-b788-266efcc8085a"
   },
   "outputs": [
    {
     "name": "stdout",
     "output_type": "stream",
     "text": [
      "Accuracy: 0.84 %\n",
      "Top-k Accuracy (k=2): 0.97 %\n",
      "\n",
      "              precision    recall  f1-score   support\n",
      "\n",
      "           0       0.82      0.76      0.79      1000\n",
      "           1       0.88      0.92      0.90      1000\n",
      "           2       0.80      0.83      0.82      1000\n",
      "\n",
      "    accuracy                           0.84      3000\n",
      "   macro avg       0.84      0.84      0.84      3000\n",
      "weighted avg       0.84      0.84      0.84      3000\n",
      "\n"
     ]
    }
   ],
   "source": [
    "_ = evaluate_model(lenet_dropout, testloader)"
   ]
  },
  {
   "cell_type": "code",
   "execution_count": 25,
   "metadata": {
    "colab": {
     "base_uri": "https://localhost:8080/",
     "height": 279
    },
    "id": "3lXsTTwzWR6Y",
    "outputId": "81056307-0b11-41b8-c4c0-7495c2fe5744"
   },
   "outputs": [
    {
     "data": {
      "image/png": "[encoded data removed]",
      "text/plain": [
       "<Figure size 432x288 with 2 Axes>"
      ]
     },
     "metadata": {
      "needs_background": "light"
     },
     "output_type": "display_data"
    }
   ],
   "source": [
    "# Plot the confusion matrix using sklearn.metrics.ConfusionMatrixDisplay\n",
    "from sklearn.metrics import ConfusionMatrixDisplay\n",
    "\n",
    "fig = ConfusionMatrixDisplay.from_predictions(ground_truth, predictions,\n",
    "                                             display_labels=['airplane', 'automobile', 'car'])\n",
    "plt.show()"
   ]
  }
 ],
 "metadata": {
  "accelerator": "GPU",
  "colab": {
   "provenance": []
  },
  "gpuClass": "standard",
  "kernelspec": {
   "display_name": "Python 3 (ipykernel)",
   "language": "python",
   "name": "python3"
  },
  "language_info": {
   "codemirror_mode": {
    "name": "ipython",
    "version": 3
   },
   "file_extension": ".py",
   "mimetype": "text/x-python",
   "name": "python",
   "nbconvert_exporter": "python",
   "pygments_lexer": "ipython3",
   "version": "3.11.4"
  },
  "widgets": {
   "application/vnd.jupyter.widget-state+json": {
    "0225672cb6914c0aad08ad7f3d08d260": {
     "model_module": "@jupyter-widgets/base",
     "model_module_version": "1.2.0",
     "model_name": "LayoutModel",
     "state": {
      "_model_module": "@jupyter-widgets/base",
      "_model_module_version": "1.2.0",
      "_model_name": "LayoutModel",
      "_view_count": null,
      "_view_module": "@jupyter-widgets/base",
      "_view_module_version": "1.2.0",
      "_view_name": "LayoutView",
      "align_content": null,
      "align_items": null,
      "align_self": null,
      "border": null,
      "bottom": null,
      "display": null,
      "flex": null,
      "flex_flow": null,
      "grid_area": null,
      "grid_auto_columns": null,
      "grid_auto_flow": null,
      "grid_auto_rows": null,
      "grid_column": null,
      "grid_gap": null,
      "grid_row": null,
      "grid_template_areas": null,
      "grid_template_columns": null,
      "grid_template_rows": null,
      "height": null,
      "justify_content": null,
      "justify_items": null,
      "left": null,
      "margin": null,
      "max_height": null,
      "max_width": null,
      "min_height": null,
      "min_width": null,
      "object_fit": null,
      "object_position": null,
      "order": null,
      "overflow": null,
      "overflow_x": null,
      "overflow_y": null,
      "padding": null,
      "right": null,
      "top": null,
      "visibility": null,
      "width": null
     }
    },
    "44b36882da0f40f6a43feb04b072b97a": {
     "model_module": "@jupyter-widgets/controls",
     "model_module_version": "1.5.0",
     "model_name": "ProgressStyleModel",
     "state": {
      "_model_module": "@jupyter-widgets/controls",
      "_model_module_version": "1.5.0",
      "_model_name": "ProgressStyleModel",
      "_view_count": null,
      "_view_module": "@jupyter-widgets/base",
      "_view_module_version": "1.2.0",
      "_view_name": "StyleView",
      "bar_color": null,
      "description_width": ""
     }
    },
    "6164fbac8ec048c3b8bb8766cb719ae4": {
     "model_module": "@jupyter-widgets/base",
     "model_module_version": "1.2.0",
     "model_name": "LayoutModel",
     "state": {
      "_model_module": "@jupyter-widgets/base",
      "_model_module_version": "1.2.0",
      "_model_name": "LayoutModel",
      "_view_count": null,
      "_view_module": "@jupyter-widgets/base",
      "_view_module_version": "1.2.0",
      "_view_name": "LayoutView",
      "align_content": null,
      "align_items": null,
      "align_self": null,
      "border": null,
      "bottom": null,
      "display": null,
      "flex": null,
      "flex_flow": null,
      "grid_area": null,
      "grid_auto_columns": null,
      "grid_auto_flow": null,
      "grid_auto_rows": null,
      "grid_column": null,
      "grid_gap": null,
      "grid_row": null,
      "grid_template_areas": null,
      "grid_template_columns": null,
      "grid_template_rows": null,
      "height": null,
      "justify_content": null,
      "justify_items": null,
      "left": null,
      "margin": null,
      "max_height": null,
      "max_width": null,
      "min_height": null,
      "min_width": null,
      "object_fit": null,
      "object_position": null,
      "order": null,
      "overflow": null,
      "overflow_x": null,
      "overflow_y": null,
      "padding": null,
      "right": null,
      "top": null,
      "visibility": null,
      "width": null
     }
    },
    "706b83fcb20b42839265c496d245e980": {
     "model_module": "@jupyter-widgets/controls",
     "model_module_version": "1.5.0",
     "model_name": "DescriptionStyleModel",
     "state": {
      "_model_module": "@jupyter-widgets/controls",
      "_model_module_version": "1.5.0",
      "_model_name": "DescriptionStyleModel",
      "_view_count": null,
      "_view_module": "@jupyter-widgets/base",
      "_view_module_version": "1.2.0",
      "_view_name": "StyleView",
      "description_width": ""
     }
    },
    "82d0ba33e3e44090b3ac4d7148c79013": {
     "model_module": "@jupyter-widgets/controls",
     "model_module_version": "1.5.0",
     "model_name": "FloatProgressModel",
     "state": {
      "_dom_classes": [],
      "_model_module": "@jupyter-widgets/controls",
      "_model_module_version": "1.5.0",
      "_model_name": "FloatProgressModel",
      "_view_count": null,
      "_view_module": "@jupyter-widgets/controls",
      "_view_module_version": "1.5.0",
      "_view_name": "ProgressView",
      "bar_style": "success",
      "description": "",
      "description_tooltip": null,
      "layout": "IPY_MODEL_6164fbac8ec048c3b8bb8766cb719ae4",
      "max": 170498071,
      "min": 0,
      "orientation": "horizontal",
      "style": "IPY_MODEL_44b36882da0f40f6a43feb04b072b97a",
      "value": 170498071
     }
    },
    "a86bd117fe7f4fc29aed673220a96b81": {
     "model_module": "@jupyter-widgets/base",
     "model_module_version": "1.2.0",
     "model_name": "LayoutModel",
     "state": {
      "_model_module": "@jupyter-widgets/base",
      "_model_module_version": "1.2.0",
      "_model_name": "LayoutModel",
      "_view_count": null,
      "_view_module": "@jupyter-widgets/base",
      "_view_module_version": "1.2.0",
      "_view_name": "LayoutView",
      "align_content": null,
      "align_items": null,
      "align_self": null,
      "border": null,
      "bottom": null,
      "display": null,
      "flex": null,
      "flex_flow": null,
      "grid_area": null,
      "grid_auto_columns": null,
      "grid_auto_flow": null,
      "grid_auto_rows": null,
      "grid_column": null,
      "grid_gap": null,
      "grid_row": null,
      "grid_template_areas": null,
      "grid_template_columns": null,
      "grid_template_rows": null,
      "height": null,
      "justify_content": null,
      "justify_items": null,
      "left": null,
      "margin": null,
      "max_height": null,
      "max_width": null,
      "min_height": null,
      "min_width": null,
      "object_fit": null,
      "object_position": null,
      "order": null,
      "overflow": null,
      "overflow_x": null,
      "overflow_y": null,
      "padding": null,
      "right": null,
      "top": null,
      "visibility": null,
      "width": null
     }
    },
    "b4ac7fd8433c45fc89c61c008f099fcc": {
     "model_module": "@jupyter-widgets/controls",
     "model_module_version": "1.5.0",
     "model_name": "HTMLModel",
     "state": {
      "_dom_classes": [],
      "_model_module": "@jupyter-widgets/controls",
      "_model_module_version": "1.5.0",
      "_model_name": "HTMLModel",
      "_view_count": null,
      "_view_module": "@jupyter-widgets/controls",
      "_view_module_version": "1.5.0",
      "_view_name": "HTMLView",
      "description": "",
      "description_tooltip": null,
      "layout": "IPY_MODEL_a86bd117fe7f4fc29aed673220a96b81",
      "placeholder": "​",
      "style": "IPY_MODEL_e8584556d3bf4a29a38a1b2873db8525",
      "value": " 170498071/170498071 [00:03&lt;00:00, 51087998.27it/s]"
     }
    },
    "e8584556d3bf4a29a38a1b2873db8525": {
     "model_module": "@jupyter-widgets/controls",
     "model_module_version": "1.5.0",
     "model_name": "DescriptionStyleModel",
     "state": {
      "_model_module": "@jupyter-widgets/controls",
      "_model_module_version": "1.5.0",
      "_model_name": "DescriptionStyleModel",
      "_view_count": null,
      "_view_module": "@jupyter-widgets/base",
      "_view_module_version": "1.2.0",
      "_view_name": "StyleView",
      "description_width": ""
     }
    },
    "e96f9302dafe4bf3960c959237232f45": {
     "model_module": "@jupyter-widgets/controls",
     "model_module_version": "1.5.0",
     "model_name": "HBoxModel",
     "state": {
      "_dom_classes": [],
      "_model_module": "@jupyter-widgets/controls",
      "_model_module_version": "1.5.0",
      "_model_name": "HBoxModel",
      "_view_count": null,
      "_view_module": "@jupyter-widgets/controls",
      "_view_module_version": "1.5.0",
      "_view_name": "HBoxView",
      "box_style": "",
      "children": [
       "IPY_MODEL_eda7ecc32805411ca6203f0dc344e23a",
       "IPY_MODEL_82d0ba33e3e44090b3ac4d7148c79013",
       "IPY_MODEL_b4ac7fd8433c45fc89c61c008f099fcc"
      ],
      "layout": "IPY_MODEL_0225672cb6914c0aad08ad7f3d08d260"
     }
    },
    "eda7ecc32805411ca6203f0dc344e23a": {
     "model_module": "@jupyter-widgets/controls",
     "model_module_version": "1.5.0",
     "model_name": "HTMLModel",
     "state": {
      "_dom_classes": [],
      "_model_module": "@jupyter-widgets/controls",
      "_model_module_version": "1.5.0",
      "_model_name": "HTMLModel",
      "_view_count": null,
      "_view_module": "@jupyter-widgets/controls",
      "_view_module_version": "1.5.0",
      "_view_name": "HTMLView",
      "description": "",
      "description_tooltip": null,
      "layout": "IPY_MODEL_f6ed2d3ba70044bfa42e0323445f1f22",
      "placeholder": "​",
      "style": "IPY_MODEL_706b83fcb20b42839265c496d245e980",
      "value": "100%"
     }
    },
    "f6ed2d3ba70044bfa42e0323445f1f22": {
     "model_module": "@jupyter-widgets/base",
     "model_module_version": "1.2.0",
     "model_name": "LayoutModel",
     "state": {
      "_model_module": "@jupyter-widgets/base",
      "_model_module_version": "1.2.0",
      "_model_name": "LayoutModel",
      "_view_count": null,
      "_view_module": "@jupyter-widgets/base",
      "_view_module_version": "1.2.0",
      "_view_name": "LayoutView",
      "align_content": null,
      "align_items": null,
      "align_self": null,
      "border": null,
      "bottom": null,
      "display": null,
      "flex": null,
      "flex_flow": null,
      "grid_area": null,
      "grid_auto_columns": null,
      "grid_auto_flow": null,
      "grid_auto_rows": null,
      "grid_column": null,
      "grid_gap": null,
      "grid_row": null,
      "grid_template_areas": null,
      "grid_template_columns": null,
      "grid_template_rows": null,
      "height": null,
      "justify_content": null,
      "justify_items": null,
      "left": null,
      "margin": null,
      "max_height": null,
      "max_width": null,
      "min_height": null,
      "min_width": null,
      "object_fit": null,
      "object_position": null,
      "order": null,
      "overflow": null,
      "overflow_x": null,
      "overflow_y": null,
      "padding": null,
      "right": null,
      "top": null,
      "visibility": null,
      "width": null
     }
    }
   }
  }
 },
 "nbformat": 4,
 "nbformat_minor": 4
}
